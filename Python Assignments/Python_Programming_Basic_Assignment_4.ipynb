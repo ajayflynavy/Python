{
 "cells": [
  {
   "cell_type": "markdown",
   "metadata": {},
   "source": [
    "## Python_Programming_Basic_Assignment_4"
   ]
  },
  {
   "cell_type": "markdown",
   "metadata": {},
   "source": [
    "#### 1. Write a Python Program to Find the Factorial of a Number"
   ]
  },
  {
   "cell_type": "code",
   "execution_count": 1,
   "metadata": {},
   "outputs": [
    {
     "name": "stdout",
     "output_type": "stream",
     "text": [
      "Enter number: 5\n",
      "Factorial of 5 is 120\n"
     ]
    }
   ],
   "source": [
    "n=int(input('Enter number: '))\n",
    "fact = 1\n",
    "for i in range(1,n+1):\n",
    "  fact = fact*i\n",
    "print('Factorial of {} is {}'.format(n,fact))"
   ]
  },
  {
   "cell_type": "markdown",
   "metadata": {},
   "source": [
    "#### 2.\tWrite a Python Program to Display the multiplication Table"
   ]
  },
  {
   "cell_type": "code",
   "execution_count": 2,
   "metadata": {},
   "outputs": [
    {
     "name": "stdout",
     "output_type": "stream",
     "text": [
      "Enter number: 8\n",
      "8 *  1 =  8\n",
      "8 *  2 =  16\n",
      "8 *  3 =  24\n",
      "8 *  4 =  32\n",
      "8 *  5 =  40\n",
      "8 *  6 =  48\n",
      "8 *  7 =  56\n",
      "8 *  8 =  64\n",
      "8 *  9 =  72\n",
      "8 *  10 =  80\n"
     ]
    }
   ],
   "source": [
    "n=int(input('Enter number: '))\n",
    "for i in range(1,11):\n",
    "    print(n,'* ',i,'= ',n*i)"
   ]
  },
  {
   "cell_type": "markdown",
   "metadata": {},
   "source": [
    "#### 3.\tWrite a Python Program to Print the Fibonacci sequence"
   ]
  },
  {
   "cell_type": "code",
   "execution_count": 4,
   "metadata": {},
   "outputs": [
    {
     "name": "stdout",
     "output_type": "stream",
     "text": [
      "enter number of terms: 6\n",
      "0\n",
      "1\n",
      "1\n",
      "2\n",
      "3\n",
      "5\n"
     ]
    }
   ],
   "source": [
    "terms = int(input('enter number of terms: '))\n",
    "count  = 0\n",
    "n1 = 0\n",
    "n2 = 1\n",
    "\n",
    "if terms < 0:\n",
    "  print('Enter a number greater than 0') \n",
    "elif terms == 0:\n",
    "  print(0)\n",
    "else:\n",
    "  while count < terms:\n",
    "    print(n1)\n",
    "    n3 = n1+n2\n",
    "    n1 = n2\n",
    "    n2 = n3\n",
    "    count+=1  \n",
    "    \n",
    "    "
   ]
  },
  {
   "cell_type": "markdown",
   "metadata": {},
   "source": [
    "#### 4.\tWrite a Python Program to Check Armstrong Number"
   ]
  },
  {
   "cell_type": "code",
   "execution_count": 59,
   "metadata": {},
   "outputs": [
    {
     "name": "stdout",
     "output_type": "stream",
     "text": [
      "Enter a number: 9474\n",
      "Number entered is an Armstrong number\n"
     ]
    }
   ],
   "source": [
    "sum = 0\n",
    "num = int(input('Enter a number: '))\n",
    "\n",
    "if num<0:\n",
    "    print('Enter a non-negative integer')\n",
    "    \n",
    "else:\n",
    "    num1 = str(num)\n",
    "    for i in num1:\n",
    "        sum = sum+pow(int(i),len(num1))\n",
    "    if num == sum:\n",
    "        print('Number entered is an Armstrong number')\n",
    "    else:\n",
    "        print('Not an Armstrong number')"
   ]
  },
  {
   "cell_type": "markdown",
   "metadata": {},
   "source": [
    "#### 5.\tWrite a Python Program to Find Armstrong Number in an Interval."
   ]
  },
  {
   "cell_type": "code",
   "execution_count": 3,
   "metadata": {},
   "outputs": [
    {
     "name": "stdout",
     "output_type": "stream",
     "text": [
      "enter first number: 100\n",
      "enter second number: 10000\n",
      "153\n",
      "370\n",
      "371\n",
      "407\n",
      "1634\n",
      "8208\n",
      "9474\n"
     ]
    }
   ],
   "source": [
    "num1 = int(input('enter first number: '))\n",
    "num2 = int(input('enter second number: '))\n",
    "           \n",
    "for i in range(num1,num2+1):\n",
    "  num = i\n",
    "  sum = 0\n",
    "  order = len(str(i))\n",
    "  while i>0:\n",
    "    digit = i%10\n",
    "    sum = sum+digit**order\n",
    "    i = i//10\n",
    "  if num==sum:\n",
    "    print(num)\n"
   ]
  },
  {
   "cell_type": "markdown",
   "metadata": {},
   "source": [
    "#### 6.\tWrite a Python Program to Find the Sum of Natural Numbers"
   ]
  },
  {
   "cell_type": "code",
   "execution_count": 16,
   "metadata": {},
   "outputs": [
    {
     "name": "stdout",
     "output_type": "stream",
     "text": [
      "Enter a non zero positive integer: 5\n",
      "15\n"
     ]
    }
   ],
   "source": [
    "num = int(input('Enter a non zero positive integer: '))\n",
    "sum = 0\n",
    "i = 1\n",
    "if num <= 0:\n",
    "    print('Enter an integer greater than zero')\n",
    "else:\n",
    "    while i <= num:\n",
    "        sum = sum+i\n",
    "        i+=1\n",
    "print(sum)"
   ]
  },
  {
   "cell_type": "code",
   "execution_count": null,
   "metadata": {},
   "outputs": [],
   "source": []
  }
 ],
 "metadata": {
  "kernelspec": {
   "display_name": "Python 3",
   "language": "python",
   "name": "python3"
  },
  "language_info": {
   "codemirror_mode": {
    "name": "ipython",
    "version": 3
   },
   "file_extension": ".py",
   "mimetype": "text/x-python",
   "name": "python",
   "nbconvert_exporter": "python",
   "pygments_lexer": "ipython3",
   "version": "3.8.5"
  }
 },
 "nbformat": 4,
 "nbformat_minor": 4
}
