{
 "cells": [
  {
   "cell_type": "markdown",
   "metadata": {},
   "source": [
    "## Python_Programming_Basic_Assignment_2"
   ]
  },
  {
   "cell_type": "markdown",
   "metadata": {},
   "source": [
    "#### 1.Write a Python program to convert kilometers to miles."
   ]
  },
  {
   "cell_type": "code",
   "execution_count": 1,
   "metadata": {},
   "outputs": [
    {
     "name": "stdout",
     "output_type": "stream",
     "text": [
      "enter distance in kilometers: 16\n",
      "Distance in miles:  9.941936\n"
     ]
    }
   ],
   "source": [
    "km = float(input('enter distance in kilometers: '))\n",
    "miles = km*0.621371\n",
    "print('Distance in miles: ',miles)"
   ]
  },
  {
   "cell_type": "markdown",
   "metadata": {},
   "source": [
    "#### 2.\tWrite a Python program to convert Celsius to Fahrenheit "
   ]
  },
  {
   "cell_type": "code",
   "execution_count": 5,
   "metadata": {},
   "outputs": [
    {
     "name": "stdout",
     "output_type": "stream",
     "text": [
      "enter temperature in Celsius: 18\n",
      "Temperature in Fahrenheit:  64.4\n",
      "Wall time: 2.78 s\n"
     ]
    }
   ],
   "source": [
    "celsius = float(input('enter temperature in Celsius: '))\n",
    "fahrenheit = (celsius*(9/5) + 32)\n",
    "print('Temperature in Fahrenheit: ',fahrenheit)\n"
   ]
  },
  {
   "cell_type": "markdown",
   "metadata": {},
   "source": [
    "#### 3.\tWrite a Python program to display calendar"
   ]
  },
  {
   "cell_type": "code",
   "execution_count": 73,
   "metadata": {},
   "outputs": [
    {
     "name": "stdout",
     "output_type": "stream",
     "text": [
      "                                                  2021\n",
      "\n",
      "      January                     February                     March                       April\n",
      "Mo Tu We Th Fr Sa Su        Mo Tu We Th Fr Sa Su        Mo Tu We Th Fr Sa Su        Mo Tu We Th Fr Sa Su\n",
      "             1  2  3         1  2  3  4  5  6  7         1  2  3  4  5  6  7                  1  2  3  4\n",
      " 4  5  6  7  8  9 10         8  9 10 11 12 13 14         8  9 10 11 12 13 14         5  6  7  8  9 10 11\n",
      "11 12 13 14 15 16 17        15 16 17 18 19 20 21        15 16 17 18 19 20 21        12 13 14 15 16 17 18\n",
      "18 19 20 21 22 23 24        22 23 24 25 26 27 28        22 23 24 25 26 27 28        19 20 21 22 23 24 25\n",
      "25 26 27 28 29 30 31                                    29 30 31                    26 27 28 29 30\n",
      "\n",
      "        May                         June                        July                       August\n",
      "Mo Tu We Th Fr Sa Su        Mo Tu We Th Fr Sa Su        Mo Tu We Th Fr Sa Su        Mo Tu We Th Fr Sa Su\n",
      "                1  2            1  2  3  4  5  6                  1  2  3  4                           1\n",
      " 3  4  5  6  7  8  9         7  8  9 10 11 12 13         5  6  7  8  9 10 11         2  3  4  5  6  7  8\n",
      "10 11 12 13 14 15 16        14 15 16 17 18 19 20        12 13 14 15 16 17 18         9 10 11 12 13 14 15\n",
      "17 18 19 20 21 22 23        21 22 23 24 25 26 27        19 20 21 22 23 24 25        16 17 18 19 20 21 22\n",
      "24 25 26 27 28 29 30        28 29 30                    26 27 28 29 30 31           23 24 25 26 27 28 29\n",
      "31                                                                                  30 31\n",
      "\n",
      "     September                    October                     November                    December\n",
      "Mo Tu We Th Fr Sa Su        Mo Tu We Th Fr Sa Su        Mo Tu We Th Fr Sa Su        Mo Tu We Th Fr Sa Su\n",
      "       1  2  3  4  5                     1  2  3         1  2  3  4  5  6  7               1  2  3  4  5\n",
      " 6  7  8  9 10 11 12         4  5  6  7  8  9 10         8  9 10 11 12 13 14         6  7  8  9 10 11 12\n",
      "13 14 15 16 17 18 19        11 12 13 14 15 16 17        15 16 17 18 19 20 21        13 14 15 16 17 18 19\n",
      "20 21 22 23 24 25 26        18 19 20 21 22 23 24        22 23 24 25 26 27 28        20 21 22 23 24 25 26\n",
      "27 28 29 30                 25 26 27 28 29 30 31        29 30                       27 28 29 30 31\n"
     ]
    }
   ],
   "source": [
    "# To display calendar of one year \n",
    "import calendar\n",
    "calendar.prcal(2021, w=0, l=1, c=8, m=4)"
   ]
  },
  {
   "cell_type": "code",
   "execution_count": 33,
   "metadata": {},
   "outputs": [
    {
     "name": "stdout",
     "output_type": "stream",
     "text": [
      "enter year: 2021\n",
      "enter month: 3\n"
     ]
    },
    {
     "data": {
      "text/plain": [
       "'                                 March 2021\\n  Monday    Tuesday   Wednesday   Thursday    Friday    Saturday    Sunday\\n     1          2          3          4          5          6          7\\n     8          9         10         11         12         13         14\\n    15         16         17         18         19         20         21\\n    22         23         24         25         26         27         28\\n    29         30         31\\n'"
      ]
     },
     "execution_count": 33,
     "metadata": {},
     "output_type": "execute_result"
    }
   ],
   "source": [
    "# To display calendar given year and month\n",
    "\n",
    "yy = int(input('enter year: '))\n",
    "mm = int(input('enter month: '))         \n",
    "calendar.month(yy,mm,w=10)"
   ]
  },
  {
   "cell_type": "code",
   "execution_count": 71,
   "metadata": {},
   "outputs": [
    {
     "data": {
      "text/plain": [
       "1"
      ]
     },
     "execution_count": 71,
     "metadata": {},
     "output_type": "execute_result"
    }
   ],
   "source": [
    "# To display day of the week given year, month and date\n",
    "calendar.weekday(2021,1,5)"
   ]
  },
  {
   "cell_type": "code",
   "execution_count": 72,
   "metadata": {},
   "outputs": [
    {
     "data": {
      "text/plain": [
       "[[1, 2, 3, 4, 5, 6, 7],\n",
       " [8, 9, 10, 11, 12, 13, 14],\n",
       " [15, 16, 17, 18, 19, 20, 21],\n",
       " [22, 23, 24, 25, 26, 27, 28],\n",
       " [29, 30, 31, 0, 0, 0, 0]]"
      ]
     },
     "execution_count": 72,
     "metadata": {},
     "output_type": "execute_result"
    }
   ],
   "source": [
    "# To display calendar of month given year and month\n",
    "calendar.monthcalendar(2021,3)"
   ]
  },
  {
   "cell_type": "markdown",
   "metadata": {},
   "source": [
    "#### 4.\tWrite a Python program to solve quadratic equation"
   ]
  },
  {
   "cell_type": "code",
   "execution_count": 84,
   "metadata": {},
   "outputs": [
    {
     "name": "stdout",
     "output_type": "stream",
     "text": [
      "enter a: 1\n",
      "enter b: 10\n",
      "enter c: -24\n",
      "The two roots of the quadratic equation are (2+0j) (-12+0j)\n"
     ]
    }
   ],
   "source": [
    "'''Python program to solve quadratic equation using quadratic formula \n",
    "   The two roots of the quadratic equation can be found by (-b+sqrt(square(b) -4ac))/2a and (-b-sqrt(square(b) -4ac))/2a \n",
    "   where a,b & c are real numbers and a not equal to zero '''\n",
    "\n",
    "# using cmath\n",
    "import cmath\n",
    "a = float(input('enter a: '))\n",
    "b = float(input('enter b: '))\n",
    "c = float(input('enter c: '))\n",
    "\n",
    "root1 = (-b + cmath.sqrt(b*b -4*a*c))/(2*a)\n",
    "root2 = (-b - cmath.sqrt(b*b -4*a*c))/(2*a)\n",
    "\n",
    "print('The two roots of the quadratic equation are', root1,root2)"
   ]
  },
  {
   "cell_type": "code",
   "execution_count": 91,
   "metadata": {},
   "outputs": [
    {
     "name": "stdout",
     "output_type": "stream",
     "text": [
      "enter a: 1\n",
      "enter b: 10\n",
      "enter c: -24\n",
      " roots are real and different \n",
      "2.0\n",
      "-12.0\n"
     ]
    }
   ],
   "source": [
    "# using if else statement\n",
    "a = float(input('enter a: '))\n",
    "b = float(input('enter b: '))\n",
    "c = float(input('enter c: '))\n",
    "\n",
    "import math \n",
    "\n",
    "def roots( a, b, c): \n",
    "    \n",
    "    # If a is 0, then incorrect equation\n",
    "    if a == 0:\n",
    "        print(\"Input correct quadratic equation\")\n",
    "  \n",
    "    else:\n",
    "        # calculating discriminant using formula\n",
    "        dis = b * b - 4 * a * c \n",
    "        sqr_root = math.sqrt(abs(dis))        \n",
    "      \n",
    "    # checking condition for discriminant\n",
    "        if dis > 0: \n",
    "            print(\" roots are real and different \") \n",
    "            print((-b + sqr_root)/(2 * a)) \n",
    "            print((-b - sqr_root)/(2 * a)) \n",
    "      \n",
    "        elif dis == 0: \n",
    "            print(\" roots are real and same\") \n",
    "            print(-b / (2 * a)) \n",
    "      \n",
    "    # when discriminant is less than 0\n",
    "        else:\n",
    "            print(\"Complex Roots\") \n",
    "            print(- b / (2 * a), \" + i\", sqrt_val) \n",
    "            print(- b / (2 * a), \" - i\", sqrt_val) \n",
    "  \n",
    "  \n",
    "roots(a,b,c)"
   ]
  },
  {
   "cell_type": "markdown",
   "metadata": {},
   "source": [
    "#### 5.\tWrite a Python program to swap two variables without temp variable"
   ]
  },
  {
   "cell_type": "code",
   "execution_count": 97,
   "metadata": {},
   "outputs": [
    {
     "name": "stdout",
     "output_type": "stream",
     "text": [
      "enter a: 5\n",
      "enter b: 9\n",
      "Value of a before swapping: 5\n",
      "Value of b before swapping: 9\n",
      "Value of a after swapping: 9\n",
      "Value of b after swapping: 5\n"
     ]
    }
   ],
   "source": [
    "a = input('enter a: ')\n",
    "b = input('enter b: ')\n",
    "\n",
    "print('Value of a before swapping:',a)\n",
    "print('Value of b before swapping:',b)\n",
    "#swapping variables\n",
    "a,b = b,a\n",
    "\n",
    "print('Value of a after swapping:',a)\n",
    "print('Value of b after swapping:',b)"
   ]
  },
  {
   "cell_type": "code",
   "execution_count": null,
   "metadata": {},
   "outputs": [],
   "source": []
  }
 ],
 "metadata": {
  "kernelspec": {
   "display_name": "Python 3",
   "language": "python",
   "name": "python3"
  },
  "language_info": {
   "codemirror_mode": {
    "name": "ipython",
    "version": 3
   },
   "file_extension": ".py",
   "mimetype": "text/x-python",
   "name": "python",
   "nbconvert_exporter": "python",
   "pygments_lexer": "ipython3",
   "version": "3.8.5"
  }
 },
 "nbformat": 4,
 "nbformat_minor": 4
}
